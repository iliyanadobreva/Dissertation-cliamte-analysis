{
 "cells": [
  {
   "cell_type": "code",
   "execution_count": 1,
   "metadata": {
    "collapsed": true
   },
   "outputs": [],
   "source": [
    "import rasterio                  # I/O raster data (netcdf, height, geotiff, ...)\n",
    "import rasterio.warp             # Reproject raster samples\n",
    "import fiona                     # I/O vector data (shape, geojson, ...)\n",
    "import pyproj                    # Change coordinate reference system\n",
    "\n",
    "import numpy as np               # numerical array manipulation\n",
    "import matplotlib.pyplot as plt  # plotting tools\n",
    "%matplotlib inline\n",
    "\n",
    "import warnings                  # ignore annoying warnings\n",
    "warnings.filterwarnings(\"ignore\")"
   ]
  },
  {
   "cell_type": "code",
   "execution_count": 4,
   "metadata": {},
   "outputs": [
    {
     "name": "stdout",
     "output_type": "stream",
     "text": [
      "left: 0.0, right: 512.0, bottom: 512.0, top: 0.0\n",
      "height: 512, width: 512\n"
     ]
    }
   ],
   "source": [
    "# Map of Norway\n",
    "with rasterio.open(\"data_2013_test/temp_sphumid_relhumid_2013_600mb.nc\", \"r\") as src_nc:\n",
    "\n",
    "    left, bottom, right, top = src_nc.bounds\n",
    "    height, width = src_nc.shape\n",
    "    \n",
    "    # raster information\n",
    "    print(\"left: %s, right: %s, bottom: %s, top: %s\" % (left, right, bottom, top))\n",
    "    print(\"height: %s, width: %s\" % (height, width))\n",
    "    \n",
    "    # 1D vectors\n",
    "    x_1d = np.linspace(left, right, width)\n",
    "    y_1d = np.linspace(top, bottom, height)\n",
    "\n",
    "    # 2D vectors trough meshing\n",
    "    x, y = np.meshgrid(x_1d, y_1d)\n",
    "\n",
    "    #z = src_nc.read()[0]\n",
    "\n",
    "    #print(\"shapes:\", x.shape, y.shape, z.shape)\n",
    "    \n",
    "    \n",
    "    \n",
    "    \n",
    "    "
   ]
  },
  {
   "cell_type": "code",
   "execution_count": 5,
   "metadata": {
    "collapsed": true
   },
   "outputs": [],
   "source": [
    "import gdal"
   ]
  },
  {
   "cell_type": "code",
   "execution_count": null,
   "metadata": {
    "collapsed": true
   },
   "outputs": [],
   "source": []
  }
 ],
 "metadata": {
  "kernelspec": {
   "display_name": "Python 2",
   "language": "python",
   "name": "python2"
  },
  "language_info": {
   "codemirror_mode": {
    "name": "ipython",
    "version": 2
   },
   "file_extension": ".py",
   "mimetype": "text/x-python",
   "name": "python",
   "nbconvert_exporter": "python",
   "pygments_lexer": "ipython2",
   "version": "2.7.13"
  }
 },
 "nbformat": 4,
 "nbformat_minor": 2
}
