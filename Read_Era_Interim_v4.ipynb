{
 "cells": [
  {
   "cell_type": "code",
   "execution_count": 1,
   "metadata": {
    "collapsed": false
   },
   "outputs": [],
   "source": [
    "import os\n",
    "\n",
    "\n",
    "import gdal\n",
    "\n",
    "import pygeoprocessing\n",
    "from pygeoprocessing import routing"
   ]
  },
  {
   "cell_type": "code",
   "execution_count": 2,
   "metadata": {
    "collapsed": false
   },
   "outputs": [
    {
     "name": "stdout",
     "output_type": "stream",
     "text": [
      "[u'longitude', u'latitude', u'time', u't', u'q', u'r']\n"
     ]
    }
   ],
   "source": [
    "import netCDF4\n",
    "import numpy as np\n",
    "\n",
    "from datetime import datetime, timedelta\n",
    "import datetime # Python standard library datetime module\n",
    "\n",
    "from netCDF4 import num2date, date2num\n",
    "from netCDF4 import Dataset,netcdftime # http://unidata.github.io/netcdf4-python/\n",
    "\n",
    "#open netCDF file:\n",
    "fin_name = 'data_2013_test/temp_sphumid_relhumid_2013_600mb.nc'\n",
    "fin = netCDF4.Dataset(fin_name)\n",
    "#print(f)\n",
    "\n",
    "# list variable names\n",
    "print(fin.variables.keys())\n",
    "\n",
    "#\n",
    "# Latitude and longitude\n",
    "#\n",
    "\n",
    "varname = 'longitude'\n",
    "longitude = fin.variables[varname][:] # get values\n",
    "\n",
    "varname = 'latitude'\n",
    "latitude = fin.variables[varname][:] # get values\n",
    "\n",
    "#\n",
    "# Time\n",
    "#\n",
    "\n",
    "tname = 'time'\n",
    "\n",
    "time_array = fin.variables[tname][:] # get values\n",
    "t_unit = fin.variables[tname].units # get unit  'days since 1950-01-01T00:00:00Z'\n",
    "t_cal = fin.variables[tname].calendar # get calendars 'gregorian'\n",
    "\n",
    "date_array = num2date(time_array,units = t_unit,calendar = t_cal)\n",
    "\n",
    "# make arrays to hold the dates\n",
    "year  = np.zeros(len(date_array), dtype=np.int)\n",
    "month = np.zeros(len(date_array), dtype=np.int)\n",
    "day   = np.zeros(len(date_array), dtype=np.int)\n",
    "hour  = np.zeros(len(date_array), dtype=np.int)\n",
    "\n",
    "for i in range (0, len(date_array)):\n",
    "    strtime  = str(date_array[i])\n",
    "    year[i]  = int(strtime[0:4])\n",
    "    month[i] = int(strtime[5:7])\n",
    "    day[i]  = int(strtime[8:10])\n",
    "    hour[i]  = int(strtime[11:13])\n",
    "\n",
    "#\n",
    "# Cliamte\n",
    "#\n",
    "\n",
    "#u't', u'q', u'r']\n",
    "\n",
    "# temperature 't'\n",
    "var_num = 3\n",
    "varname = fin.variables.items()[var_num][0] \n",
    "\n",
    "t_temperature = fin.variables[varname][:] # get values which are already unpacked \n",
    "\n",
    "\n",
    "# specific humidity 'q'\n",
    "var_num = 4\n",
    "varname = fin.variables.items()[var_num][0] \n",
    "\n",
    "q_specific_hum = fin.variables[varname][:] # get values which are already unpacked \n",
    "\n",
    "\n",
    "# relative humidity 'q'\n",
    "var_num = 5\n",
    "varname = fin.variables.items()[var_num][0] \n",
    "\n",
    "r_relative_hum = fin.variables[varname][:] # get values which are already unpacked "
   ]
  },
  {
   "cell_type": "code",
   "execution_count": 3,
   "metadata": {
    "collapsed": false
   },
   "outputs": [
    {
     "name": "stdout",
     "output_type": "stream",
     "text": [
      "71.75\n",
      "38.75\n"
     ]
    }
   ],
   "source": [
    "print(longitude[0])\n",
    "print(latitude[0])"
   ]
  },
  {
   "cell_type": "code",
   "execution_count": null,
   "metadata": {
    "collapsed": true
   },
   "outputs": [],
   "source": []
  },
  {
   "cell_type": "code",
   "execution_count": null,
   "metadata": {
    "collapsed": true
   },
   "outputs": [],
   "source": []
  },
  {
   "cell_type": "code",
   "execution_count": 4,
   "metadata": {
    "collapsed": false
   },
   "outputs": [],
   "source": [
    "# from: https://pcjericks.github.io/py-gdalogr-cookbook/raster_layers.html\n",
    "\n",
    "\n",
    "import gdal, ogr, os, osr\n",
    "import numpy as np\n",
    "\n",
    "\n",
    "def array2raster(newRasterfn,rasterOrigin,pixelWidth,pixelHeight,array):\n",
    "\n",
    "    cols = array.shape[1]\n",
    "    rows = array.shape[0]\n",
    "    originX = rasterOrigin[0]\n",
    "    originY = rasterOrigin[1]\n",
    "\n",
    "    driver = gdal.GetDriverByName('GTiff')\n",
    "    outRaster = driver.Create(newRasterfn, cols, rows, 1, gdal.GDT_Byte)\n",
    "    outRaster.SetGeoTransform((originX, pixelWidth, 0, originY, 0, pixelHeight))\n",
    "    outband = outRaster.GetRasterBand(1)\n",
    "    outband.WriteArray(array)\n",
    "    outRasterSRS = osr.SpatialReference()\n",
    "    outRasterSRS.ImportFromEPSG(4326)\n",
    "    outRaster.SetProjection(outRasterSRS.ExportToWkt())\n",
    "    outband.FlushCache()\n",
    "\n",
    "\n",
    "def main(newRasterfn,rasterOrigin,pixelWidth,pixelHeight,array):\n",
    "    reversed_arr = array[::-1] # reverse array so the tif looks like the array\n",
    "    array2raster(newRasterfn,rasterOrigin,pixelWidth,pixelHeight,reversed_arr) # convert array to raster\n",
    "\n",
    "\n",
    "if __name__ == \"__main__\":\n",
    "    rasterOrigin = (longitude[0],latitude[0])\n",
    "    pixelWidth = longitude[1] - longitude[0]\n",
    "    pixelHeight = latitude[1] - latitude[0]\n",
    "    newRasterfn = 'test.tif'\n",
    "    array = r_relative_hum[0,:,:]\n",
    "\n",
    "\n",
    "    main(newRasterfn,rasterOrigin,pixelWidth,pixelHeight,array)"
   ]
  },
  {
   "cell_type": "code",
   "execution_count": null,
   "metadata": {
    "collapsed": true
   },
   "outputs": [],
   "source": []
  },
  {
   "cell_type": "code",
   "execution_count": 15,
   "metadata": {
    "collapsed": false
   },
   "outputs": [
    {
     "data": {
      "text/plain": [
       "0"
      ]
     },
     "execution_count": 15,
     "metadata": {},
     "output_type": "execute_result"
    }
   ],
   "source": []
  },
  {
   "cell_type": "code",
   "execution_count": null,
   "metadata": {
    "collapsed": true
   },
   "outputs": [],
   "source": [
    "\n",
    "\n",
    "\n"
   ]
  },
  {
   "cell_type": "code",
   "execution_count": null,
   "metadata": {
    "collapsed": true
   },
   "outputs": [],
   "source": []
  }
 ],
 "metadata": {
  "kernelspec": {
   "display_name": "Python 2",
   "language": "python",
   "name": "python2"
  },
  "language_info": {
   "codemirror_mode": {
    "name": "ipython",
    "version": 2
   },
   "file_extension": ".py",
   "mimetype": "text/x-python",
   "name": "python",
   "nbconvert_exporter": "python",
   "pygments_lexer": "ipython2",
   "version": "2.7.13"
  }
 },
 "nbformat": 4,
 "nbformat_minor": 2
}
