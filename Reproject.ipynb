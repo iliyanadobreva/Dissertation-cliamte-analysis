{
 "cells": [
  {
   "cell_type": "code",
   "execution_count": 2,
   "metadata": {
    "collapsed": true
   },
   "outputs": [],
   "source": [
    "#!/usr/bin/env python\n",
    "\n",
    "from osgeo import gdal, gdalconst\n",
    "\n",
    "# Source - the nc\n",
    "src_filename = 'test.tif'\n",
    "src = gdal.Open(src_filename, gdalconst.GA_ReadOnly)\n",
    "src_proj = src.GetProjection()\n",
    "src_geotrans = src.GetGeoTransform()\n",
    "\n",
    "# We want a section of source that matches this:\n",
    "match_filename = 'DEM_ResearchSub.tif'\n",
    "match_ds = gdal.Open(match_filename, gdalconst.GA_ReadOnly)\n",
    "match_proj = match_ds.GetProjection()\n",
    "match_geotrans = match_ds.GetGeoTransform()\n",
    "wide = match_ds.RasterXSize\n",
    "high = match_ds.RasterYSize\n",
    "\n",
    "# Output / destination\n",
    "dst_filename = 'test6.tif'\n",
    "dst = gdal.GetDriverByName('GTiff').Create(dst_filename, wide, high, 1, gdalconst.GDT_Float32)\n",
    "dst.SetGeoTransform( match_geotrans )\n",
    "dst.SetProjection( match_proj)\n",
    "\n",
    "# Do the work\n",
    "gdal.ReprojectImage(src, dst, src_proj, match_proj, gdalconst.GRA_CubicSpline)\n",
    "\n",
    "del dst # Flush"
   ]
  },
  {
   "cell_type": "code",
   "execution_count": null,
   "metadata": {
    "collapsed": true
   },
   "outputs": [],
   "source": []
  }
 ],
 "metadata": {
  "kernelspec": {
   "display_name": "Python 2",
   "language": "python",
   "name": "python2"
  },
  "language_info": {
   "codemirror_mode": {
    "name": "ipython",
    "version": 2
   },
   "file_extension": ".py",
   "mimetype": "text/x-python",
   "name": "python",
   "nbconvert_exporter": "python",
   "pygments_lexer": "ipython2",
   "version": "2.7.13"
  }
 },
 "nbformat": 4,
 "nbformat_minor": 2
}
