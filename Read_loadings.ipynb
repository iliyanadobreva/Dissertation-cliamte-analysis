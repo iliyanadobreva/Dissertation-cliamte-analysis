{
 "cells": [
  {
   "cell_type": "markdown",
   "metadata": {},
   "source": [
    "# read mass loading (snow cover) data from simulations
   ]
  },
  {
   "cell_type": "code",
   "execution_count": 1,
   "metadata": {},
   "outputs": [],
   "source": [
    "import numpy as np\n",
    "from PIL import Image\n",
    "\n",
    "#import time\n",
    "\n",
    "\n",
    "\n",
    "lines   = 4529\n",
    "columns = 7540\n",
    "\n",
    "total = lines*columns\n",
    "\n",
    "fin_basins    = 'D:\\\\1_Climate\\\\Loading_basins_scripts2\\\\Basins_rasters\\\\data_basins_byte.dat'\n",
    "#fin_subbasins = 'D:\\\\1_Climate\\\\Loading_basins_scripts2\\\\Basins_rasters\\\\data_subbasins_byte.dat'\n",
    "\n",
    "\n",
    "basins = np.fromfile(fin_basins, dtype=np.int8)\n",
    "basins = basins.reshape((lines,columns))\n",
    "\n",
    "\n",
    "#subbasins = np.fromfile(fin_subbasins, dtype=np.int8)\n",
    "#subbasins = subbasins.reshape((lines,columns))\n",
    "\n",
    "\n",
    "\n"
   ]
  },
  {
   "cell_type": "code",
   "execution_count": 2,
   "metadata": {
    "collapsed": true
   },
   "outputs": [],
   "source": [
    "basins_unique = np.unique(basins)\n",
    "    \n",
    "# -1 is NoData, so remove it    \n",
    "basins_unique = [x for x in basins_unique if x != -1]\n",
    "\n",
    "\n",
    "num_basins = len(basins_unique)    \n",
    "   \n",
    "    \n",
    "    \n",
    "    \n",
    "    \n",
    "num_years = 38\n",
    "\n",
    "num_months = 12*num_years\n",
    "\n",
    "data_loadings = np.zeros((num_months, num_basins))\n",
    "data_size = np.zeros((num_months, num_basins)) # the number of loadings pixels that are not 0\n",
    "data_date = np.zeros((num_months, 2)) # year and month   \n",
    "\n",
    "#"
   ]
  },
  {
   "cell_type": "code",
   "execution_count": 3,
   "metadata": {
    "collapsed": true
   },
   "outputs": [],
   "source": [
    " np.savetxt('basins_sorted.txt', basins_unique, delimiter=',')   # X is an array\n",
    "    \n",
    "    \n",
    "    \n",
    "    "
   ]
  },
  {
   "cell_type": "code",
   "execution_count": 4,
   "metadata": {},
   "outputs": [
    {
     "name": "stdout",
     "output_type": "stream",
     "text": [
      "1979\n",
      "1980\n",
      "1981\n",
      "1982\n",
      "1983\n",
      "1984\n",
      "1985\n",
      "1986\n",
      "1987\n",
      "1988\n",
      "1989\n",
      "1990\n",
      "1991\n",
      "1992\n",
      "1993\n",
      "1994\n",
      "1995\n",
      "1996\n",
      "1997\n",
      "1998\n",
      "1999\n",
      "2000\n",
      "2001\n",
      "2002\n",
      "2003\n",
      "2004\n",
      "2005\n",
      "2006\n",
      "2007\n",
      "2008\n",
      "2009\n",
      "2010\n",
      "2011\n",
      "2012\n",
      "2013\n",
      "2014\n",
      "2015\n",
      "2016\n"
     ]
    }
   ],
   "source": [
    "## Loop through months\n",
    "# THIS WORKS!!!!\n",
    "\n",
    "dir_in_root = 'D:\\\\1_Climate\\\\data_precip_all\\\\'\n",
    "\n",
    "count_num_months = 0\n",
    "\n",
    "for year in range (1979,2017): \n",
    "    \n",
    "    print (year)\n",
    "    \n",
    "    for month in range (1,13):\n",
    "    \n",
    "        #print (year,month)\n",
    "        \n",
    "        #t0 = time.time()\n",
    "        \n",
    "        data_date[count_num_months, 0] = year\n",
    "        data_date[count_num_months, 1] = month\n",
    "\n",
    "\n",
    "        if (month < 10):\n",
    "            month_str = '0' + str(month)\n",
    "        else:\n",
    "            month_str = str(month)\n",
    "\n",
    "\n",
    "\n",
    "        #open loadings for for this month and year    \n",
    "        fin = dir_in_root + 'data_' + str(year) + '\\\\' 'precip_' + str(year) + '_' + month_str + '_loading_snowfall.dat'\n",
    "\n",
    "        data_one = np.fromfile(fin, dtype=np.float32)\n",
    "        data_one = data_one.reshape((lines,columns))\n",
    "\n",
    "        # loop through basins\n",
    "        for basin_ind in range (0,num_basins):\n",
    "        #basin_ind = 0\n",
    "\n",
    "            #print(basin_ind)\n",
    "\n",
    "            ind = np.where( basins == basins_unique[basin_ind])\n",
    "\n",
    "            ind_len = len(ind[0])\n",
    "\n",
    "            data_sum = 0.0\n",
    "\n",
    "            #count_num_loadings = 0\n",
    "\n",
    "            #print('1')\n",
    "            \n",
    "            for i in range (0,ind_len):\n",
    "                \n",
    "                data_sum = data_sum + data_one[ind[0][i],ind[1][i]]\n",
    "                \n",
    "                # commented to save time\n",
    "                #if (data_one[ind[0][i],ind[1][i]] > 0):\n",
    "                #    count_num_loadings = count_num_loadings + 1\n",
    "\n",
    "            #print('2')\n",
    "            #t1 = time.time()\n",
    "            \n",
    "            \n",
    "            \n",
    "            data_loadings[count_num_months, basin_ind] = data_sum\n",
    "            #data_size[count_num_months, basin_ind] = count_num_loadings\n",
    "\n",
    "\n",
    "\n",
    "            \n",
    "\n",
    "            #\n",
    "        count_num_months = count_num_months + 1\n",
    "        #total = t1-t0\n",
    "        #print(total)\n",
    "        \n",
    "\n",
    "\n",
    "\n",
    "\n"
   ]
  },
  {
   "cell_type": "code",
   "execution_count": 5,
   "metadata": {
    "collapsed": true
   },
   "outputs": [],
   "source": [
    "# save file\n",
    "data_loadings.astype('float32').tofile('data_loadings.dat')"
   ]
  },
  {
   "cell_type": "code",
   "execution_count": null,
   "metadata": {
    "collapsed": true
   },
   "outputs": [],
   "source": []
  },
  {
   "cell_type": "code",
   "execution_count": 8,
   "metadata": {},
   "outputs": [],
   "source": [
    "data = np.fromfile('data_loadings.dat', dtype=np.float32)\n",
    "#print(num_months, num_basins)\n",
    "data = data.reshape((456, 71))"
   ]
  },
  {
   "cell_type": "code",
   "execution_count": 7,
   "metadata": {},
   "outputs": [
    {
     "data": {
      "text/plain": [
       "71"
      ]
     },
     "execution_count": 7,
     "metadata": {},
     "output_type": "execute_result"
    }
   ],
   "source": [
    "num_basins"
   ]
  },
  {
   "cell_type": "code",
   "execution_count": null,
   "metadata": {},
   "outputs": [],
   "source": [
    "data_loadings[102,:]"
   ]
  },
  {
   "cell_type": "code",
   "execution_count": null,
   "metadata": {},
   "outputs": [],
   "source": [
    "data[102,:]"
   ]
  },
  {
   "cell_type": "code",
   "execution_count": 9,
   "metadata": {},
   "outputs": [
    {
     "name": "stdout",
     "output_type": "stream",
     "text": [
      "1979\n",
      "1980\n",
      "1981\n",
      "1982\n",
      "1983\n",
      "1984\n",
      "1985\n",
      "1986\n",
      "1987\n",
      "1988\n",
      "1989\n",
      "1990\n",
      "1991\n",
      "1992\n",
      "1993\n",
      "1994\n",
      "1995\n",
      "1996\n",
      "1997\n",
      "1998\n",
      "1999\n",
      "2000\n",
      "2001\n",
      "2002\n",
      "2003\n",
      "2004\n",
      "2005\n",
      "2006\n",
      "2007\n",
      "2008\n",
      "2009\n",
      "2010\n",
      "2011\n",
      "2012\n",
      "2013\n",
      "2014\n",
      "2015\n",
      "2016\n"
     ]
    }
   ],
   "source": [
    "## SAVE data_date\n",
    "\n",
    "dir_in_root = 'D:\\\\1_Climate\\\\data_precip_all\\\\'\n",
    "\n",
    "count_num_months = 0\n",
    "\n",
    "for year in range (1979,2017): \n",
    "    \n",
    "    print (year)\n",
    "    \n",
    "    for month in range (1,13):\n",
    "    \n",
    "        #print (year,month)\n",
    "        \n",
    "        #t0 = time.time()\n",
    "        \n",
    "        data_date[count_num_months, 0] = year\n",
    "        data_date[count_num_months, 1] = month\n",
    "\n",
    "\n",
    "            \n",
    "\n",
    "            #\n",
    "        count_num_months = count_num_months + 1\n",
    "        #total = t1-t0\n",
    "        #print(total)\n",
    "        \n",
    "\n",
    "\n",
    "\n",
    "\n"
   ]
  },
  {
   "cell_type": "code",
   "execution_count": 10,
   "metadata": {
    "collapsed": true
   },
   "outputs": [],
   "source": [
    "\n",
    "np.savetxt('data_date.txt', data_date, delimiter=',')  \n"
   ]
  },
  {
   "cell_type": "code",
   "execution_count": null,
   "metadata": {
    "collapsed": true
   },
   "outputs": [],
   "source": []
  }
 ],
 "metadata": {
  "kernelspec": {
   "display_name": "Python 2",
   "language": "python",
   "name": "python2"
  },
  "language_info": {
   "codemirror_mode": {
    "name": "ipython",
    "version": 2
   },
   "file_extension": ".py",
   "mimetype": "text/x-python",
   "name": "python",
   "nbconvert_exporter": "python",
   "pygments_lexer": "ipython2",
   "version": "2.7.13"
  }
 },
 "nbformat": 4,
 "nbformat_minor": 2
}
